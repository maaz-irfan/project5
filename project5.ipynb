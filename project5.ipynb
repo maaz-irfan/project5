{
  "nbformat": 4,
  "nbformat_minor": 0,
  "metadata": {
    "colab": {
      "provenance": [],
      "authorship_tag": "ABX9TyP4cTyeqBLu2xTzytOzpJ1k",
      "include_colab_link": true
    },
    "kernelspec": {
      "name": "python3",
      "display_name": "Python 3"
    },
    "language_info": {
      "name": "python"
    }
  },
  "cells": [
    {
      "cell_type": "markdown",
      "metadata": {
        "id": "view-in-github",
        "colab_type": "text"
      },
      "source": [
        "<a href=\"https://colab.research.google.com/github/maaz-irfan/project5/blob/main/project5.ipynb\" target=\"_parent\"><img src=\"https://colab.research.google.com/assets/colab-badge.svg\" alt=\"Open In Colab\"/></a>"
      ]
    },
    {
      "cell_type": "code",
      "execution_count": null,
      "metadata": {
        "colab": {
          "base_uri": "https://localhost:8080/"
        },
        "id": "q5K5vaAkYATM",
        "outputId": "585d8ab4-99bb-4701-c92a-9760406d0ef9"
      },
      "outputs": [
        {
          "output_type": "stream",
          "name": "stdout",
          "text": [
            "Welcome to Hangman!\n",
            "\n",
            "Word: _ _ _ _ _ _ _ _ _\n",
            "Attempts left: 4\n",
            "Guessed letters: \n",
            "Guess a letter: p\n",
            "Oops! 'p' is not in the word.\n",
            "\n",
            "Word: _ _ _ _ _ _ _ _ _\n",
            "Attempts left: 3\n",
            "Guessed letters: p\n",
            "Guess a letter: i\n",
            "Oops! 'i' is not in the word.\n",
            "\n",
            "Word: _ _ _ _ _ _ _ _ _\n",
            "Attempts left: 2\n",
            "Guessed letters: i p\n",
            "Guess a letter: python\n",
            "Invalid input! Please guess a single letter.\n",
            "\n",
            "Word: _ _ _ _ _ _ _ _ _\n",
            "Attempts left: 2\n",
            "Guessed letters: i p\n",
            "Guess a letter: pr\n",
            "Invalid input! Please guess a single letter.\n",
            "\n",
            "Word: _ _ _ _ _ _ _ _ _\n",
            "Attempts left: 2\n",
            "Guessed letters: i p\n",
            "Guess a letter: g\n",
            "Good job! 'g' is in the word.\n",
            "\n",
            "Word: _ _ _ _ _ _ _ g _\n",
            "Attempts left: 2\n",
            "Guessed letters: g i p\n",
            "Guess a letter: r\n",
            "Oops! 'r' is not in the word.\n",
            "\n",
            "Word: _ _ _ _ _ _ _ g _\n",
            "Attempts left: 1\n",
            "Guessed letters: g i p r\n"
          ]
        }
      ],
      "source": [
        "import random\n",
        "\n",
        "words = [\"python\", \"hangman\", \"challenge\", \"programming\", \"developer\"]\n",
        "\n",
        "def display_word(word, guessed_letters):\n",
        "    \"\"\"Display the current state of the word with guessed letters revealed.\"\"\"\n",
        "    return \" \".join([letter if letter in guessed_letters else \"_\" for letter in word])\n",
        "\n",
        "def play_hangman():\n",
        "    print(\"Welcome to Hangman!\")\n",
        "    word_to_guess = random.choice(words)\n",
        "    guessed_letters = set()\n",
        "    attempts_left = 4\n",
        "\n",
        "    while attempts_left > 0:\n",
        "        print(\"\\nWord:\", display_word(word_to_guess, guessed_letters))\n",
        "        print(f\"Attempts left: {attempts_left}\")\n",
        "        print(\"Guessed letters:\", \" \".join(sorted(guessed_letters)))\n",
        "\n",
        "        guess = input(\"Guess a letter: \").lower()\n",
        "        if len(guess) != 1 or not guess.isalpha():\n",
        "            print(\"Invalid input! Please guess a single letter.\")\n",
        "            continue\n",
        "\n",
        "        if guess in guessed_letters:\n",
        "            print(f\"You've already guessed '{guess}'. Try again.\")\n",
        "            continue\n",
        "\n",
        "        guessed_letters.add(guess)\n",
        "\n",
        "        if guess in word_to_guess:\n",
        "            print(f\"Good job! '{guess}' is in the word.\")\n",
        "            if all(letter in guessed_letters for letter in word_to_guess):\n",
        "                print(f\"Congratulations! You've guessed the word: {word_to_guess}\")\n",
        "                break\n",
        "        else:\n",
        "            print(f\"Oops! '{guess}' is not in the word.\")\n",
        "            attempts_left -= 1\n",
        "\n",
        "    if attempts_left == 0:\n",
        "        print(f\"Game over! The word was: {word_to_guess}\")\n",
        "\n",
        "play_hangman()"
      ]
    }
  ]
}